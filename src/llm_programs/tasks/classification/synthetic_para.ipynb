{
 "cells": [
  {
   "cell_type": "code",
   "execution_count": null,
   "id": "20e3b811",
   "metadata": {},
   "outputs": [],
   "source": [
    "import os\n",
    "import json\n",
    "import time\n",
    "import random\n",
    "import requests\n",
    "from pathlib import Path\n"
   ]
  },
  {
   "cell_type": "code",
   "execution_count": null,
   "id": "787fcf60",
   "metadata": {},
   "outputs": [],
   "source": [
    "\n",
    "API_KEY = os.getenv(\"ANTHROPIC_API_KEY\")\n",
    "BASE_URL = \"https://api.anthropic.com/v1/messages\"\n",
    "MODEL_NAME = \"claude-3-sonnet-20240229\"\n",
    "MAX_RETRIES = 5\n",
    "\n",
    "OUTPUT_FOLDER = \"synthetic_paragraphs_for_test2\"\n",
    "LABELS_FILE = \"synthetic_paragraphs_for_test/labels.json\"\n"
   ]
  },
  {
   "cell_type": "code",
   "execution_count": null,
   "id": "eafad0e5",
   "metadata": {},
   "outputs": [],
   "source": [
    "\n",
    "def call_claude(prompt, max_tokens=1500):\n",
    "    retries = 0\n",
    "    while retries < MAX_RETRIES:\n",
    "        try:\n",
    "            headers = {\n",
    "                \"x-api-key\": API_KEY,\n",
    "                \"Content-Type\": \"application/json\",\n",
    "                \"anthropic-version\": \"2023-06-01\"\n",
    "            }\n",
    "            data = {\n",
    "                \"model\": MODEL_NAME,\n",
    "                \"messages\": [{\"role\": \"user\", \"content\": prompt}],\n",
    "                \"max_tokens\": max_tokens,\n",
    "                \"temperature\": 0.7\n",
    "            }\n",
    "            response = requests.post(BASE_URL, headers=headers, data=json.dumps(data))\n",
    "            if response.status_code == 200:\n",
    "                result = response.json()\n",
    "                for item in result.get(\"content\", []):\n",
    "                    if item.get(\"type\") == \"text\":\n",
    "                        return item.get(\"text\", \"\").strip()\n",
    "            else:\n",
    "                print(f\"Error {response.status_code}: {response.text}\")\n",
    "                retries += 1\n",
    "                time.sleep(2 ** retries + random.uniform(0, 1))\n",
    "        except Exception as e:\n",
    "            print(f\"Request error: {e}\")\n",
    "            retries += 1\n",
    "            time.sleep(2 ** retries + random.uniform(0, 1))\n",
    "    return \"Error: Claude API failed after retries.\"\n"
   ]
  },
  {
   "cell_type": "code",
   "execution_count": null,
   "id": "6211ba64",
   "metadata": {},
   "outputs": [],
   "source": [
    "\n",
    "def generate_paragraphs(prompt, expected_count):\n",
    "    raw = call_claude(prompt, max_tokens=2000)\n",
    "    paragraphs = []\n",
    "\n",
    "    for line in raw.split('\\n'):\n",
    "        line = line.strip()\n",
    "        if line and line[0].isdigit():\n",
    "            _, paragraph = line.split('.', 1)\n",
    "            paragraphs.append(paragraph.strip())\n",
    "\n",
    "    return paragraphs[:expected_count]\n"
   ]
  },
  {
   "cell_type": "code",
   "execution_count": null,
   "id": "18bccef4",
   "metadata": {},
   "outputs": [],
   "source": [
    "\n",
    "def generate_balanced_paragraphs(n=50):\n",
    "    assert n % 2 == 0, \"Use an even number for balanced sets\"\n",
    "\n",
    "    # 1. Generate AI-related clauses\n",
    "    ai_prompt = (\n",
    "        f\"Generate {n // 2} realistic, legal-style contract paragraphs that discuss \"\n",
    "        \"artificial intelligence, machine learning, profiling, or automated processing. But don't make it too obvious, don't write ai or machine learning for example, i need to be able to understand from the context but not from keywords. \"\n",
    "        \"Each paragraph should sound like it belongs in a contract. Format as numbered list.\"\n",
    "    )\n",
    "    ai_paragraphs = generate_paragraphs(ai_prompt, n // 2)\n",
    "\n",
    "    # 2. Generate neutral (non-AI) contract clauses\n",
    "    neutral_prompt = (\n",
    "        f\"Generate {n // 2} realistic legal-style contract paragraphs, \"\n",
    "        \"They can be about general clauses like liability, termination, payment terms, etc. \"\n",
    "        \"Each paragraph should sound like a real clause from a contract. Format as numbered list.\"\n",
    "    )\n",
    "    neutral_paragraphs = generate_paragraphs(neutral_prompt, n // 2)\n",
    "\n",
    "    final_paragraphs = []\n",
    "    labels = {}\n",
    "    Path(OUTPUT_FOLDER).mkdir(parents=True, exist_ok=True)\n",
    "\n",
    "    for i in range(n):\n",
    "        is_ai = (i + 1) % 2 == 0\n",
    "        paragraph = ai_paragraphs[i // 2] if is_ai else neutral_paragraphs[i // 2]\n",
    "        filename = f\"{i+1:03d}_synthetic_ai_clause.txt\"\n",
    "        filepath = Path(OUTPUT_FOLDER) / filename\n",
    "\n",
    "        with open(filepath, 'w', encoding='utf-8') as f:\n",
    "            f.write(paragraph + \"\\n\")\n",
    "\n",
    "        labels[filename] = \"ai\" if is_ai else \"neutral\"\n",
    "\n",
    "    with open(LABELS_FILE, 'w', encoding='utf-8') as f:\n",
    "        json.dump(labels, f, indent=2, ensure_ascii=False)\n",
    "\n",
    "    print(f\"✅ Created {n} synthetic paragraphs in '{OUTPUT_FOLDER}/'\")\n",
    "    print(f\"📝 Labels saved to '{LABELS_FILE}'\")\n"
   ]
  },
  {
   "cell_type": "code",
   "execution_count": null,
   "id": "c99bc8f8",
   "metadata": {},
   "outputs": [],
   "source": [
    "\n",
    "if __name__ == \"__main__\":\n",
    "    generate_balanced_paragraphs(n=50)"
   ]
  }
 ],
 "metadata": {
  "kernelspec": {
   "display_name": ".venv",
   "language": "python",
   "name": "python3"
  },
  "language_info": {
   "name": "python",
   "version": "3.12.9"
  }
 },
 "nbformat": 4,
 "nbformat_minor": 5
}
