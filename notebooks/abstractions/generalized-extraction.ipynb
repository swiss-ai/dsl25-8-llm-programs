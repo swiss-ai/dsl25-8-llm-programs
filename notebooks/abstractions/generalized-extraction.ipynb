{
 "cells": [
  {
   "cell_type": "markdown",
   "id": "d64d5dc2",
   "metadata": {},
   "source": [
    "### Data"
   ]
  },
  {
   "cell_type": "code",
   "execution_count": null,
   "id": "1a0097c7",
   "metadata": {},
   "outputs": [
    {
     "name": "stdout",
     "output_type": "stream",
     "text": [
      "  % Total    % Received % Xferd  Average Speed   Time    Time     Time  Current\n",
      "                                 Dload  Upload   Total   Spent    Left  Speed\n",
      "100 3280k  100 3280k    0     0   667k      0  0:00:04  0:00:04 --:--:--  906k\n"
     ]
    }
   ],
   "source": [
    "!curl https://www.gutenberg.org/files/2600/2600-0.txt > ../../data/other/war_and_peace.txt"
   ]
  },
  {
   "cell_type": "code",
   "execution_count": null,
   "id": "627231fe",
   "metadata": {},
   "outputs": [
    {
     "name": "stdout",
     "output_type": "stream",
     "text": [
      "The Project Gutenberg eBook of War and Peace, by Leo Tolstoy\n",
      "\n",
      "This eBook is for the use of anyone anywhere in the United States and\n",
      "most other parts of the world at no cost and with almost no restrictions\n",
      "whatsoever. You may copy it, give it away or re-use it under the terms\n",
      "of the Project Gutenberg License included with this eBook or online at\n",
      "www.gutenberg.org. If you are not located in the United States, you\n",
      "will have to check the laws of the country where you are located before\n",
      "using this eBook.\n",
      "\n"
     ]
    }
   ],
   "source": [
    "!head ../../data/other/war_and_peace.txt"
   ]
  },
  {
   "cell_type": "code",
   "execution_count": 4,
   "id": "5a95d497",
   "metadata": {},
   "outputs": [
    {
     "name": "stdout",
     "output_type": "stream",
     "text": [
      "wc: ../../data/other/war_and_peace.txt: No such file or directory\n"
     ]
    }
   ],
   "source": [
    "!wc -w ../../data/other/war_and_peace.txt"
   ]
  },
  {
   "cell_type": "code",
   "execution_count": 5,
   "id": "b11f058a",
   "metadata": {},
   "outputs": [
    {
     "name": "stdout",
     "output_type": "stream",
     "text": [
      "  % Total    % Received % Xferd  Average Speed   Time    Time     Time  Current\n",
      "                                 Dload  Upload   Total   Spent    Left  Speed\n",
      "100  596k  100  596k    0     0      0      0 --:--:--  0:00:02 --:--:--     0   184k      0  0:00:03  0:00:03 --:--:--  184k\n"
     ]
    }
   ],
   "source": [
    "!curl https://www.gutenberg.org/files/9296/9296-0.txt > clarissa_complete.txt"
   ]
  },
  {
   "cell_type": "markdown",
   "id": "07b970b4",
   "metadata": {},
   "source": [
    "## Applying MapReduce to long-form summarisation"
   ]
  },
  {
   "cell_type": "code",
   "execution_count": 1,
   "id": "2b4d26c2",
   "metadata": {},
   "outputs": [],
   "source": [
    "%load_ext autoreload\n",
    "%autoreload 2"
   ]
  },
  {
   "cell_type": "code",
   "execution_count": 17,
   "id": "5ab05cd5",
   "metadata": {},
   "outputs": [],
   "source": [
    "import importlib\n",
    "import llm_programs\n",
    "importlib.reload(llm_programs)\n",
    "from llm_programs import LMFunction, TemplatedFunction, MapReduce, Gemini, DummyLM\n",
    "from llm_programs.programs.base.prompters import ArgsPrompter\n",
    "from llm_programs.utils import *"
   ]
  },
  {
   "cell_type": "code",
   "execution_count": 18,
   "id": "78fcdf12",
   "metadata": {},
   "outputs": [
    {
     "name": "stdout",
     "output_type": "stream",
     "text": [
      "3220\n",
      "BOOK ONE: 1805\n",
      "\n",
      "\n",
      "\n",
      "\n",
      "\n",
      "CHAPTER I\n",
      "\n",
      "“Well, Prince, so Genoa and Lucca are now just family estates of the\n",
      "Buonapartes. But I warn you, if you don’t tell me that this means war,\n",
      "if you still try to defend the infamies and horrors perpetrated by that\n",
      "Antichrist—I really believe he is Antichrist—I will have nothing\n",
      "more to do with you and you are no longer my friend, no longer my\n",
      "‘faithful slave,’ as you call yourself! But how do you do? I see I\n",
      "have frightened you—sit down and tell me all the news.”\n",
      "\n",
      "It was in July, 1805, and the speaker was the well-known Anna Pávlovna\n",
      "Schérer, maid of honor and favorite of the Empress Márya Fëdorovna.\n",
      "With these words she greeted Prince Vasíli Kurágin, a man of high\n",
      "rank and importance, who was the first to arrive at her reception. Anna\n",
      "Pávlovna had had a cough for some days. She was, as she said, suffering\n",
      "from la grippe; grippe being then a new word in St. Petersburg, used\n",
      "only by the elite.\n",
      "\n",
      "All her invitations without exception, written in French, a\n",
      "165\n"
     ]
    }
   ],
   "source": [
    "from pathlib import Path\n",
    "content = Path(\"../../data/other/war_and_peace.txt\").read_text()\n",
    "# window_size = 10_000\n",
    "window_size = 1_000\n",
    "book_start = content.find(\"\\n\\n\\n\\n\\nBOOK ONE\")\n",
    "content = content[book_start:]\n",
    "print(len(content) // window_size)\n",
    "inputs = [content[i:i+window_size].strip() for i in range(0, len(content), window_size)]\n",
    "print(inputs[0])\n",
    "print(inputs[0].count(' '))\n"
   ]
  },
  {
   "cell_type": "code",
   "execution_count": 22,
   "id": "3527e10e",
   "metadata": {},
   "outputs": [
    {
     "name": "stdout",
     "output_type": "stream",
     "text": [
      "==== Prompt ==== (n_llm_calls = 1)\n",
      "Summarize the following extract from a book in one or two sentences. Do not add any additional information or context.\n",
      "\n",
      "BEGIN EXTRACT\n",
      "\n",
      "BOOK ONE: 1805\n",
      "\n",
      "\n",
      "\n",
      "\n",
      "\n",
      "CHAPTER I\n",
      "\n",
      "“Well, Prince, so Genoa and Lucca are now just family estates of the\n",
      "Buonapartes. But I warn you, if you don’t tell me that this means war,\n",
      "if you still try to defend the infamies and horrors perpetrated by that\n",
      "Antichrist—I really believe he is Antichrist—I will have nothing\n",
      "more to do with you and you are no longer my friend, no longer my\n",
      "‘faithful slave,’ as you call yourself! But how do you do? I see I\n",
      "have frightened you—sit down and tell me all the news.”\n",
      "\n",
      "It was in July, 1805, and the speaker was the well-known Anna Pávlovna\n",
      "Schérer, maid of honor and favorite of the Empress Márya Fëdorovna.\n",
      "With these words she greeted Prince Vasíli Kurágin, a man of high\n",
      "rank and importance, who was the first to arrive at her reception. Anna\n",
      "Pávlovna had had a cough for some days. She was, as she said, suffering\n",
      "from la grippe; grippe being then a new word in St. Petersburg, used\n",
      "only by the elite.\n",
      "\n",
      "All her invitations without exception, written in French, a\n",
      "\n",
      "END EXTRACT\n",
      "\n",
      "================\n",
      "=== Response ===\n",
      "In 1805, Anna Pávlovna Schérer, a maid of honor, chides Prince Vasíli Kurágin for his potential defense of Napoleon Bonaparte and demands news of the political situation. Her opening lines reveal a strong anti-Bonaparte sentiment and a close, albeit somewhat domineering, relationship with the Prince.\n",
      "\n",
      "================\n",
      "\n",
      "\n",
      "==== Prompt ==== (n_llm_calls = 2)\n",
      "Summarize the following extract from a book in one or two sentences. Do not add any additional information or context.\n",
      "\n",
      "BEGIN EXTRACT\n",
      "\n",
      "nd delivered\n",
      "by a scarlet-liveried footman that morning, ran as follows:\n",
      "\n",
      "“If you have nothing better to do, Count (or Prince), and if the\n",
      "prospect of spending an evening with a poor invalid is not too terrible,\n",
      "I shall be very charmed to see you tonight between 7 and 10—Annette\n",
      "Schérer.”\n",
      "\n",
      "“Heavens! what a virulent attack!” replied the prince, not in the\n",
      "least disconcerted by this reception. He had just entered, wearing an\n",
      "embroidered court uniform, knee breeches, and shoes, and had stars on\n",
      "his breast and a serene expression on his flat face. He spoke in that\n",
      "refined French in which our grandfathers not only spoke but thought, and\n",
      "with the gentle, patronizing intonation natural to a man of importance\n",
      "who had grown old in society and at court. He went up to Anna Pávlovna,\n",
      "kissed her hand, presenting to her his bald, scented, and shining head,\n",
      "and complacently seated himself on the sofa.\n",
      "\n",
      "“First of all, dear friend, tell me how you are. Set your friend’s\n",
      "mind at rest,” said he without a\n",
      "\n",
      "END EXTRACT\n",
      "\n",
      "================\n",
      "=== Response ===\n",
      "Prince Vasíli entered Anna Pávlovna's home, responding to her note with amusement and inquiring about her health. He kissed her hand and settled on the sofa, speaking in refined French.\n",
      "\n",
      "================\n",
      "\n",
      "\n",
      "==== Prompt ==== (n_llm_calls = 3)\n",
      "Summarize the following extract from a book in one or two sentences. Do not add any additional information or context.\n",
      "\n",
      "BEGIN EXTRACT\n",
      "\n",
      "ltering his tone, beneath the\n",
      "politeness and affected sympathy of which indifference and even irony\n",
      "could be discerned.\n",
      "\n",
      "“Can one be well while suffering morally? Can one be calm in times\n",
      "like these if one has any feeling?” said Anna Pávlovna. “You are\n",
      "staying the whole evening, I hope?”\n",
      "\n",
      "“And the fete at the English ambassador’s? Today is Wednesday. I\n",
      "must put in an appearance there,” said the prince. “My daughter is\n",
      "coming for me to take me there.”\n",
      "\n",
      "“I thought today’s fete had been canceled. I confess all these\n",
      "festivities and fireworks are becoming wearisome.”\n",
      "\n",
      "“If they had known that you wished it, the entertainment would have\n",
      "been put off,” said the prince, who, like a wound-up clock, by force\n",
      "of habit said things he did not even wish to be believed.\n",
      "\n",
      "“Don’t tease! Well, and what has been decided about Novosíltsev’s\n",
      "dispatch? You know everything.”\n",
      "\n",
      "“What can one say about it?” replied the prince in a cold, listless\n",
      "tone. “What has been decided? They have decided that Buonaparte ha\n",
      "\n",
      "END EXTRACT\n",
      "\n",
      "================\n",
      "=== Response ===\n",
      "Anna Pávlovna questions the prince about his well-being and Novosíltsev's dispatch while subtly criticizing his social obligations. The prince responds with veiled irony and reveals that they have decided on a stance regarding Buonaparte.\n",
      "\n",
      "================\n",
      "\n",
      "\n",
      "==== Prompt ==== (n_llm_calls = 4)\n",
      "You will be provided with a list of summaries of sequential extracts of the same book. Your task is to combine them into a single summary that captures the main themes and ideas of the text. The summary must be very brief, only one or two sentences. Do not add any additional information or context.\n",
      "\n",
      "BEGIN SUMMARIES\n",
      "\n",
      "In 1805, Anna Pávlovna Schérer, a maid of honor, chides Prince Vasíli Kurágin for his potential defense of Napoleon Bonaparte and demands news of the political situation. Her opening lines reveal a strong anti-Bonaparte sentiment and a close, albeit somewhat domineering, relationship with the Prince.\n",
      "\n",
      "Prince Vasíli entered Anna Pávlovna's home, responding to her note with amusement and inquiring about her health. He kissed her hand and settled on the sofa, speaking in refined French.\n",
      "\n",
      "END SUMMARIES\n",
      "\n",
      "================\n",
      "=== Response ===\n",
      "In 1805, Anna Pávlovna Schérer expresses strong anti-Bonaparte sentiment and engages in a refined conversation with Prince Vasíli Kurágin upon his arrival at her home.\n",
      "\n",
      "================\n",
      "\n",
      "\n",
      "==== Prompt ==== (n_llm_calls = 5)\n",
      "You will be provided with a list of summaries of sequential extracts of the same book. Your task is to combine them into a single summary that captures the main themes and ideas of the text. The summary must be very brief, only one or two sentences. Do not add any additional information or context.\n",
      "\n",
      "BEGIN SUMMARIES\n",
      "\n",
      "In 1805, Anna Pávlovna Schérer expresses strong anti-Bonaparte sentiment and engages in a refined conversation with Prince Vasíli Kurágin upon his arrival at her home.\n",
      "\n",
      "Anna Pávlovna questions the prince about his well-being and Novosíltsev's dispatch while subtly criticizing his social obligations. The prince responds with veiled irony and reveals that they have decided on a stance regarding Buonaparte.\n",
      "\n",
      "END SUMMARIES\n",
      "\n",
      "================\n",
      "=== Response ===\n",
      "In 1805, Anna Pávlovna Schérer hosts Prince Vasíli Kurágin, expressing strong anti-Bonaparte sentiments while engaging in refined conversation and subtly criticizing social obligations, as they discuss their stance on Buonaparte.\n",
      "\n",
      "================\n",
      "\n",
      "\n"
     ]
    }
   ],
   "source": [
    "template_map = \"\"\"Summarize the following extract from a book in one or two sentences. Do not add any additional information or context.\n",
    "\n",
    "BEGIN EXTRACT\n",
    "\n",
    "{extract}\n",
    "\n",
    "END EXTRACT\n",
    "\"\"\"\n",
    "\n",
    "template_reduce = \"\"\"You will be provided with a list of summaries of sequential extracts of the same book. Your task is to combine them into a single summary that captures the main themes and ideas of the text. The summary must be very brief, only one or two sentences. Do not add any additional information or context.\n",
    "\n",
    "BEGIN SUMMARIES\n",
    "\n",
    "{summaries}\n",
    "\n",
    "END SUMMARIES\n",
    "\"\"\"\n",
    "\n",
    "\n",
    "engine = Gemini(debug=True)\n",
    "# engine = DummyLM()\n",
    "# engine.__call__ = debug_wrap(engine.__call__)\n",
    "\n",
    "map_fn = LMFunction(prompter=ArgsPrompter(template_map, ['extract']), engine=engine)\n",
    "\n",
    "# Strip summaries of newlines and whitespace\n",
    "def JoinerPrompter(inputs):\n",
    "    inputs_clean = [v.replace('\\n', ' ').strip() for v in inputs]\n",
    "    inputs_joined = '\\n\\n'.join(inputs_clean)\n",
    "    return template_reduce.format(summaries=inputs_joined)\n",
    "\n",
    "reduce_fn = LMFunction(prompter=JoinerPrompter, engine=engine)\n",
    "\n",
    "mapreduce = MapReduce\n",
    "output = mapreduce(map_fn, reduce_fn)(inputs[:3])"
   ]
  },
  {
   "cell_type": "code",
   "execution_count": 30,
   "id": "1d3dbd09",
   "metadata": {},
   "outputs": [
    {
     "name": "stdout",
     "output_type": "stream",
     "text": [
      "In 1805 St. Petersburg, Anna Pávlovna hosts a politically charged reception where anti-Napoleon sentiments and social maneuvering intertwine with ambitions for personal advancement.\n",
      "\n"
     ]
    }
   ],
   "source": [
    "print(output)"
   ]
  },
  {
   "cell_type": "code",
   "execution_count": 31,
   "id": "62253a54",
   "metadata": {},
   "outputs": [
    {
     "name": "stdout",
     "output_type": "stream",
     "text": [
      "In 1805 St. Petersburg, Anna Pávlovna hosts a politically charged reception where anti-Napoleon sentiments and social \n",
      "maneuvering intertwine with ambitions for personal advancement.\n",
      "\n"
     ]
    }
   ],
   "source": [
    "printw(output)"
   ]
  },
  {
   "cell_type": "markdown",
   "id": "e0b1a0e8",
   "metadata": {},
   "source": [
    "## Parallel MapReduce"
   ]
  },
  {
   "cell_type": "code",
   "execution_count": 33,
   "id": "1f883e8c",
   "metadata": {},
   "outputs": [],
   "source": [
    "class JoinerPrompter():\n",
    "    def __init__(self, template, sep='\\n\\n', rm_newlines=True):\n",
    "        self.template = template\n",
    "        self.sep = sep\n",
    "        self.rm_newlines = rm_newlines\n",
    "\n",
    "    def __call__(self, **ctx):\n",
    "        inputs = ctx['inputs']\n",
    "        if self.rm_newlines:\n",
    "            inputs = [v.replace('\\n', ' ').strip() for v in inputs]\n",
    "        return self.template.format(inputs=self.sep.join(inputs))\n",
    "\n"
   ]
  },
  {
   "cell_type": "code",
   "execution_count": 48,
   "id": "9db6b22e",
   "metadata": {},
   "outputs": [],
   "source": [
    "# fake templates for testing\n",
    "template_map = \"\"\"summarize_extract(\\\"{input}\\\")\"\"\"\n",
    "template_reduce = \"\"\"summarize_summaries({inputs})\"\"\"\n",
    "\n",
    "text = 'abcdefghijklmnopqrstuvwxyz' * 2\n",
    "\n",
    "inputs = [text[i:i+10] for i in range(0, len(text), 10)]\n",
    "\n",
    "engine = DummyLM(latency=.3)\n",
    "map_fn = TemplatedFunction(template_map, engine=engine)\n",
    "reduce_fn = LMFunction(prompter=JoinerPrompter(template_reduce, sep=',', rm_newlines=False), engine=engine)\n",
    "mapreduce = MapReduce(map_fn, reduce_fn, parallel=True, max_workers=1)\n",
    "# mapreduce(inputs)"
   ]
  },
  {
   "cell_type": "code",
   "execution_count": 49,
   "id": "e9b2a895",
   "metadata": {},
   "outputs": [
    {
     "name": "stdout",
     "output_type": "stream",
     "text": [
      "3.3 s ± 327 μs per loop (mean ± std. dev. of 7 runs, 1 loop each)\n"
     ]
    }
   ],
   "source": [
    "%%timeit\n",
    "mapreduce = MapReduce(map_fn, reduce_fn, parallel=True, max_workers=1)\n",
    "mapreduce(inputs)\n",
    "None"
   ]
  },
  {
   "cell_type": "code",
   "execution_count": 50,
   "id": "4320da45",
   "metadata": {},
   "outputs": [
    {
     "name": "stdout",
     "output_type": "stream",
     "text": [
      "1.21 s ± 301 μs per loop (mean ± std. dev. of 7 runs, 1 loop each)\n"
     ]
    }
   ],
   "source": [
    "%%timeit\n",
    "mapreduce = MapReduce(map_fn, reduce_fn, parallel=True, max_workers=None)\n",
    "mapreduce(inputs)\n",
    "None"
   ]
  }
 ],
 "metadata": {
  "kernelspec": {
   "display_name": "env3.12-hack-dsl",
   "language": "python",
   "name": "python3"
  },
  "language_info": {
   "codemirror_mode": {
    "name": "ipython",
    "version": 3
   },
   "file_extension": ".py",
   "mimetype": "text/x-python",
   "name": "python",
   "nbconvert_exporter": "python",
   "pygments_lexer": "ipython3",
   "version": "3.12.9"
  }
 },
 "nbformat": 4,
 "nbformat_minor": 5
}
