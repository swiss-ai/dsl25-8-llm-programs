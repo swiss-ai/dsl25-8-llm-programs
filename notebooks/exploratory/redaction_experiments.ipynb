{
 "cells": [
  {
   "cell_type": "code",
   "execution_count": 1,
   "id": "7cdc1b12",
   "metadata": {},
   "outputs": [],
   "source": [
    "%load_ext autoreload\n",
    "%autoreload 2"
   ]
  },
  {
   "cell_type": "code",
   "execution_count": 2,
   "id": "e14928b0",
   "metadata": {},
   "outputs": [],
   "source": [
    "import os\n",
    "os.environ[\"PYTORCH_CUDA_ALLOC_CONF\"] = \"expandable_segments:True\"\n",
    "\n",
    "import torch\n",
    "torch.cuda.empty_cache()\n",
    "torch.cuda.ipc_collect()"
   ]
  },
  {
   "cell_type": "code",
   "execution_count": 3,
   "id": "c75304a1",
   "metadata": {},
   "outputs": [
    {
     "name": "stderr",
     "output_type": "stream",
     "text": [
      "/home/sb/.conda/envs/env3.12-hack-dsl/lib/python3.12/site-packages/tqdm/auto.py:21: TqdmWarning: IProgress not found. Please update jupyter and ipywidgets. See https://ipywidgets.readthedocs.io/en/stable/user_install.html\n",
      "  from .autonotebook import tqdm as notebook_tqdm\n"
     ]
    }
   ],
   "source": [
    "from importlib import reload  \n",
    "import llm_programs\n",
    "reload(llm_programs)\n",
    "\n",
    "from llm_programs.programs.base import *\n",
    "from llm_programs.utils import *\n",
    "\n",
    "from llm_programs.tasks.redaction.templates import TEMPLATE_FILTER_ALL, REDACTION_TEMPLATES"
   ]
  },
  {
   "cell_type": "markdown",
   "id": "eb51751c",
   "metadata": {},
   "source": [
    "## Baseline: 1 prompt, 1 call, small window"
   ]
  },
  {
   "cell_type": "code",
   "execution_count": 4,
   "id": "e5545008",
   "metadata": {},
   "outputs": [],
   "source": [
    "root = Path('../..')\n",
    "parent = root / 'data/contracts/confidential/'\n",
    "docdir_clean = DocDir(parent / 'contracts_2_clean_v5')\n",
    "\n",
    "path_sample = parent / 'sample_0_clean'\n",
    "\n",
    "def fn(path_sample):\n",
    "    return make_sample_docdir(docdir_clean, path_sample, seed=42)\n",
    "\n",
    "docdir_sample = DocDir.find_or_make(path_sample, fn)"
   ]
  },
  {
   "cell_type": "code",
   "execution_count": null,
   "id": "26cc75f7",
   "metadata": {},
   "outputs": [],
   "source": [
    "def gemma_parser(response):\n",
    "    return lines_parser(response.replace('```', ''))\n",
    "\n",
    "engine = LocalLM()\n",
    "\n",
    "f = TemplatedFunction(TEMPLATE_FILTER_ALL, engine=engine, parser=gemma_parser)\n",
    "\n",
    "window_size = 1024\n",
    "window_stride = 128\n",
    "\n",
    "for i_doc, doc in enumerate(docdir_sample.docs()):\n",
    "    for i_win, window in enumerate(doc.windows(window_size, window_stride)):\n",
    "        print(f\"=== {doc} ===\")\n",
    "        print(f\"--- {i_win} ---\")\n",
    "        print(wrap(window))\n",
    "        window_kws = f(extract=window)\n",
    "        print(f\"---------\")\n",
    "        print(window_kws)\n",
    "        print(f\"---------\")\n",
    "        print()"
   ]
  },
  {
   "cell_type": "markdown",
   "id": "bdfe2a6b",
   "metadata": {},
   "source": [
    "## Prompt decomposition: 1 call, N prompts"
   ]
  },
  {
   "cell_type": "code",
   "execution_count": null,
   "id": "cb58a80b",
   "metadata": {},
   "outputs": [],
   "source": [
    "window_size = 100\n",
    "window_stride = 50\n",
    "\n",
    "g = LMFunction(engine=engine, parser=gemma_parser)\n",
    "\n",
    "for i_doc, doc in enumerate(docdir_sample.docs()):\n",
    "    for i_win, window in enumerate(doc.windows(window_size, window_stride)):\n",
    "        print(f\"=== {doc} ===\")\n",
    "        print(f\"--- {i_win} ---\")\n",
    "        print(wrap(window))\n",
    "        print(f\"---------\")\n",
    "        for key, template in REDACTION_TEMPLATES.items():\n",
    "            print(key, \"-->\", end=\" \")\n",
    "            window_kws = g(template=template, extract=window)\n",
    "            print(window_kws)\n",
    "        print(f\"---------\")\n",
    "        print()"
   ]
  },
  {
   "cell_type": "markdown",
   "id": "e522b7d3",
   "metadata": {},
   "source": [
    "## Double-prompting: filter the filtered"
   ]
  },
  {
   "cell_type": "code",
   "execution_count": null,
   "id": "c3bd809f",
   "metadata": {},
   "outputs": [],
   "source": []
  }
 ],
 "metadata": {
  "kernelspec": {
   "display_name": "env3.12-hack-dsl",
   "language": "python",
   "name": "python3"
  },
  "language_info": {
   "codemirror_mode": {
    "name": "ipython",
    "version": 3
   },
   "file_extension": ".py",
   "mimetype": "text/x-python",
   "name": "python",
   "nbconvert_exporter": "python",
   "pygments_lexer": "ipython3",
   "version": "3.12.9"
  }
 },
 "nbformat": 4,
 "nbformat_minor": 5
}
