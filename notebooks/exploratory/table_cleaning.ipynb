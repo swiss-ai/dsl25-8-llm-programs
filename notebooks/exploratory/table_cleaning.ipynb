{
 "cells": [
  {
   "cell_type": "code",
   "execution_count": 1,
   "id": "6c0f1a44",
   "metadata": {},
   "outputs": [],
   "source": [
    "%load_ext autoreload\n",
    "%autoreload 2"
   ]
  },
  {
   "cell_type": "code",
   "execution_count": 2,
   "id": "413f5c1a",
   "metadata": {},
   "outputs": [],
   "source": [
    "import importlib\n",
    "import llm_programs\n",
    "from llm_programs import DocDir, DocTransform\n",
    "\n",
    "importlib.reload(llm_programs)\n",
    "\n",
    "from llm_programs import DocDir, DocTransform\n",
    "\n",
    "from pathlib import Path\n",
    "\n",
    "import matplotlib.pyplot as plt\n",
    "import re"
   ]
  },
  {
   "cell_type": "code",
   "execution_count": 3,
   "id": "1259a4b6",
   "metadata": {},
   "outputs": [
    {
     "data": {
      "text/plain": [
       "6778"
      ]
     },
     "execution_count": 3,
     "metadata": {},
     "output_type": "execute_result"
    }
   ],
   "source": [
    "root = Path('../..')\n",
    "parent = root / 'data/contracts/confidential/'\n",
    "docdir = DocDir(parent / 'contracts_1_markerpdf')\n",
    "\n",
    "total_n_pages = sum(1 for doc in docdir.docs() for page in doc.pages())\n",
    "total_n_pages"
   ]
  },
  {
   "cell_type": "markdown",
   "id": "50eae467",
   "metadata": {},
   "source": [
    "## Table char freqs (dash, pipe)"
   ]
  },
  {
   "cell_type": "code",
   "execution_count": null,
   "id": "8f784ac4",
   "metadata": {},
   "outputs": [
    {
     "data": {
      "image/png": "[encoded data removed]",
      "text/plain": [
       "<Figure size 640x480 with 1 Axes>"
      ]
     },
     "metadata": {},
     "output_type": "display_data"
    }
   ],
   "source": [
    "dash_freq = {}\n",
    "for doc in docdir.docs():\n",
    "    for i, content in doc.pages(enum=True):\n",
    "        dash_count = content.count('|')\n",
    "        dash_freq[doc, i] = dash_count / len(content) if len(content) > 0 else 0\n",
    "\n",
    "dash_freq_values = list(dash_freq.values())\n",
    "\n",
    "# Create a histogram\n",
    "plt.hist(dash_freq_values, bins=50)\n",
    "plt.show()"
   ]
  },
  {
   "cell_type": "code",
   "execution_count": null,
   "id": "e5bd990b",
   "metadata": {},
   "outputs": [],
   "source": [
    "dash_freq_items = sorted(dash_freq.items(), key=lambda x: x[1], reverse=True)\n",
    "x = 2000\n",
    "print(*dash_freq_items[x:x+10], sep='\\n')"
   ]
  },
  {
   "cell_type": "code",
   "execution_count": 27,
   "id": "b6916eee",
   "metadata": {},
   "outputs": [
    {
     "data": {
      "text/plain": [
       "6125"
      ]
     },
     "execution_count": 27,
     "metadata": {},
     "output_type": "execute_result"
    }
   ],
   "source": [
    "len(dash_freq_items)"
   ]
  },
  {
   "cell_type": "code",
   "execution_count": null,
   "id": "53cb4c22",
   "metadata": {},
   "outputs": [
    {
     "data": {
      "text/plain": [
       "(1572, 0.26)"
      ]
     },
     "execution_count": 34,
     "metadata": {},
     "output_type": "execute_result"
    }
   ],
   "source": [
    "total_n_pages_filtered = sum(1 for doc in docdir.docs() for i, page in doc.pages(enum=True) if dash_freq[doc, i] > 0.03)\n",
    "total_n_pages_filtered, round(total_n_pages_filtered / total_n_pages, 2)"
   ]
  },
  {
   "cell_type": "markdown",
   "id": "5def58ae",
   "metadata": {},
   "source": [
    "## Cleaning Transform"
   ]
  },
  {
   "cell_type": "code",
   "execution_count": 4,
   "id": "3ba4c879",
   "metadata": {},
   "outputs": [
    {
     "data": {
      "text/plain": [
       "'\\n### Table 1: Fruit Information\\n\\n\\n\\n### Table 2: Countries and Capitals\\n\\n\\n\\nsome text after\\n'"
      ]
     },
     "execution_count": 4,
     "metadata": {},
     "output_type": "execute_result"
    }
   ],
   "source": [
    "# https://stackoverflow.com/a/79249574\n",
    "MD_TABLE_REGEX = re.compile(r\"((?:\\| *[^|\\r\\n]+ *)+\\|)(?:\\r?\\n)((?:\\|[ :]?-+[ :]?)+\\|)((?:(?:\\r?\\n)(?:\\| *[^|\\r\\n]+ *)+\\|)+)\")\n",
    "\n",
    "test_str = \"\"\"\n",
    "### Table 1: Fruit Information\n",
    "\n",
    "| Fruit     | Color    | Taste  | Seasonal Availability |\n",
    "|-----------|----------|--------|-----------------------|\n",
    "| Apple     | Red      | Sweet  | Fall                  |\n",
    "| Banana    | Yellow   | Sweet  | All Year              |\n",
    "| Orange    | Orange   | Citrus | Winter                |\n",
    "| Strawberry| Red      | Sweet  | Spring                |\n",
    "| Grape     | Purple   | Sweet/Tart | Fall              |\n",
    "\n",
    "### Table 2: Countries and Capitals\n",
    "\n",
    "| Country    | Capital       | Population (millions) |\n",
    "|------------|---------------|-----------------------|\n",
    "| USA        | Washington D.C.| 331                   |\n",
    "| Canada     | Ottawa        | 38                    |\n",
    "| Germany    | Berlin        | 83                    |\n",
    "| Japan      | Tokyo         | 126                   |\n",
    "| Australia  | Canberra      | 25                    |\n",
    "\n",
    "some text after\n",
    "\"\"\"\n",
    "\n",
    "re.sub(MD_TABLE_REGEX, \"\", test_str)\n"
   ]
  },
  {
   "cell_type": "code",
   "execution_count": 5,
   "id": "e753b490",
   "metadata": {},
   "outputs": [],
   "source": [
    "path_clean = parent / 'contracts_2_clean_v5'\n",
    "\n",
    "if not path_clean.exists():\n",
    "\n",
    "    transform = DocTransform(docdir, path_clean)\n",
    "\n",
    "    def clean_fn(content):\n",
    "        new_content = re.sub(MD_TABLE_REGEX, \"\", content)\n",
    "        new_content = new_content.replace('<br>', '')\n",
    "        new_content = re.sub(r'^Image /page.*$', '', new_content, flags=re.MULTILINE)\n",
    "        new_content = re.sub(r'\\.{10,}', '', new_content)\n",
    "        return new_content\n",
    "\n",
    "    docdir_clean = transform.apply(clean_fn, debug=True)\n",
    "\n",
    "else:\n",
    "    docdir_clean = DocDir(path_clean)"
   ]
  },
  {
   "cell_type": "code",
   "execution_count": 6,
   "id": "768b8bdc",
   "metadata": {},
   "outputs": [
    {
     "data": {
      "text/plain": [
       "(6778, 32785514)"
      ]
     },
     "execution_count": 6,
     "metadata": {},
     "output_type": "execute_result"
    }
   ],
   "source": [
    "docdir.get_total_n_pages(), docdir.get_total_n_chars()"
   ]
  },
  {
   "cell_type": "code",
   "execution_count": 7,
   "id": "5518b57f",
   "metadata": {},
   "outputs": [
    {
     "data": {
      "text/plain": [
       "(5078, 9811193)"
      ]
     },
     "execution_count": 7,
     "metadata": {},
     "output_type": "execute_result"
    }
   ],
   "source": [
    "docdir_clean.get_total_n_pages(), docdir_clean.get_total_n_chars()"
   ]
  },
  {
   "cell_type": "code",
   "execution_count": 8,
   "id": "a86b5c27",
   "metadata": {},
   "outputs": [
    {
     "data": {
      "text/plain": [
       "0.29925390219595155"
      ]
     },
     "execution_count": 8,
     "metadata": {},
     "output_type": "execute_result"
    }
   ],
   "source": [
    "docdir_clean.get_total_n_chars() / docdir.get_total_n_chars()"
   ]
  },
  {
   "cell_type": "markdown",
   "id": "11c60d6d",
   "metadata": {},
   "source": [
    "## New page sizes - sanity check"
   ]
  },
  {
   "cell_type": "code",
   "execution_count": null,
   "id": "ec3858f7",
   "metadata": {},
   "outputs": [],
   "source": [
    "lengths = {}\n",
    "\n",
    "for doc in docdir_clean.docs():\n",
    "    for i, content in doc.pages(enum=True):\n",
    "        lengths[doc, i] = len(content)"
   ]
  },
  {
   "cell_type": "code",
   "execution_count": 12,
   "id": "fddf19f6",
   "metadata": {},
   "outputs": [
    {
     "data": {
      "image/png": "[encoded data removed]",
      "text/plain": [
       "<Figure size 640x480 with 1 Axes>"
      ]
     },
     "metadata": {},
     "output_type": "display_data"
    }
   ],
   "source": [
    "# Extract the lengths from the dictionary\n",
    "length_values = list(lengths.values())\n",
    "\n",
    "# Create a histogram\n",
    "plt.hist(length_values, bins=100)\n",
    "plt.show()"
   ]
  },
  {
   "cell_type": "code",
   "execution_count": null,
   "id": "faa72897",
   "metadata": {},
   "outputs": [],
   "source": [
    "longest_pair = max(lengths.items(), key=lambda x: x[1])\n",
    "longest_pair"
   ]
  },
  {
   "cell_type": "code",
   "execution_count": null,
   "id": "9d697a2c",
   "metadata": {},
   "outputs": [],
   "source": [
    "for i, page in longest_pair[0][0].pages(enum=True):\n",
    "    print(f\"== Page {i} ==\")\n",
    "    print()\n",
    "    print(page)\n",
    "    print()\n",
    "    print('---')\n",
    "    print()"
   ]
  }
 ],
 "metadata": {
  "kernelspec": {
   "display_name": "env3.12-hack-dsl",
   "language": "python",
   "name": "python3"
  },
  "language_info": {
   "codemirror_mode": {
    "name": "ipython",
    "version": 3
   },
   "file_extension": ".py",
   "mimetype": "text/x-python",
   "name": "python",
   "nbconvert_exporter": "python",
   "pygments_lexer": "ipython3",
   "version": "3.12.9"
  }
 },
 "nbformat": 4,
 "nbformat_minor": 5
}
